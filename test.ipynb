{
 "cells": [
  {
   "cell_type": "code",
   "execution_count": 2,
   "id": "a94a9fcb",
   "metadata": {},
   "outputs": [
    {
     "data": {
      "application/vnd.jupyter.widget-view+json": {
       "model_id": "ee053d74dc4245e0aac0eb88a753a2f7",
       "version_major": 2,
       "version_minor": 0
      },
      "text/plain": [
       "VBox(children=(HTML(value=\"<b style='font-size: large'>Process files to dataset</b>\"), FileChooser(path='/home…"
      ]
     },
     "metadata": {},
     "output_type": "display_data"
    }
   ],
   "source": [
    "import meteovis as mv\n",
    "\n",
    "mv.process_data()"
   ]
  },
  {
   "cell_type": "code",
   "execution_count": 1,
   "id": "c2083ded",
   "metadata": {},
   "outputs": [
    {
     "data": {
      "application/vnd.jupyter.widget-view+json": {
       "model_id": "67210c752f5c487fa3aab422b8c1b70d",
       "version_major": 2,
       "version_minor": 0
      },
      "text/plain": [
       "VBox(children=(HTML(value=\"<b style='font-size: large'>Dataset Operations</b>\"), QgridWidget(grid_options={'fu…"
      ]
     },
     "metadata": {},
     "output_type": "display_data"
    }
   ],
   "source": [
    "import meteovis as mv\n",
    "\n",
    "mv.operate_datasets()"
   ]
  },
  {
   "cell_type": "code",
   "execution_count": 16,
   "id": "6dec3787",
   "metadata": {},
   "outputs": [
    {
     "name": "stdout",
     "output_type": "stream",
     "text": [
      "<KeysViewHDF5 ['bbox', 'cmap', 'crs', 'desc', 'id', 'name', 'options', 'src', 'timeline']>\n",
      "['20201130-0000' '20201130-0005' '20201130-0010' '20201130-0015'\n",
      " '20201130-0020']\n"
     ]
    }
   ],
   "source": [
    "import h5py\n",
    "\n",
    "dataset_path = \"/home/jqi/workspace/meteovis/dataset/\"\n",
    "file_name = \"b49398fc-3244-4b4f-8f83-dc781239f0af.h5\"\n",
    "file_path = dataset_path + file_name\n",
    "\n",
    "with h5py.File(file_path, \"r\") as f:\n",
    "    print(f[\"meta\"].attrs.keys())\n",
    "    print(f[\"meta\"].attrs[\"timeline\"])"
   ]
  },
  {
   "cell_type": "code",
   "execution_count": 11,
   "id": "73e25585",
   "metadata": {},
   "outputs": [
    {
     "data": {
      "text/plain": [
       "array([1, 2])"
      ]
     },
     "execution_count": 11,
     "metadata": {},
     "output_type": "execute_result"
    }
   ],
   "source": [
    "import pandas as pd\n",
    "\n",
    "df = pd.DataFrame(\n",
    "    [[1, 2], [2, 3]], \n",
    "    columns=[\"id\", \"value\"]\n",
    ")\n",
    "df.set_index(\"id\", inplace=True)\n",
    "df.index.values"
   ]
  },
  {
   "cell_type": "code",
   "execution_count": 7,
   "id": "e2893449",
   "metadata": {},
   "outputs": [],
   "source": [
    "import base64\n",
    "from io import BytesIO\n",
    "from PIL import Image\n",
    "\n",
    "image = Image.open(\"voronoi.png\")\n",
    "buffered = BytesIO()\n",
    "image.save(buffered, format=\"PNG\")\n",
    "img_str = base64.b64encode(buffered.getvalue())"
   ]
  }
 ],
 "metadata": {
  "kernelspec": {
   "display_name": "meteovis",
   "language": "python",
   "name": "meteovis"
  },
  "language_info": {
   "codemirror_mode": {
    "name": "ipython",
    "version": 3
   },
   "file_extension": ".py",
   "mimetype": "text/x-python",
   "name": "python",
   "nbconvert_exporter": "python",
   "pygments_lexer": "ipython3",
   "version": "3.8.12"
  }
 },
 "nbformat": 4,
 "nbformat_minor": 5
}
