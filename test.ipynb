{
 "cells": [
  {
   "cell_type": "code",
   "execution_count": 1,
   "id": "77aac038",
   "metadata": {},
   "outputs": [
    {
     "data": {
      "application/vnd.jupyter.widget-view+json": {
       "model_id": "77575f20bae243028da75974ffa71c07",
       "version_major": 2,
       "version_minor": 0
      },
      "text/plain": [
       "VBox(children=(HTML(value=\"<b style='font-size: large'>Process files to dataset</b>\"), FileChooser(path='/home…"
      ]
     },
     "metadata": {},
     "output_type": "display_data"
    }
   ],
   "source": [
    "import meteovis as mv\n",
    "\n",
    "mv.process_data()"
   ]
  },
  {
   "cell_type": "code",
   "execution_count": 2,
   "id": "6baca170",
   "metadata": {},
   "outputs": [
    {
     "data": {
      "application/vnd.jupyter.widget-view+json": {
       "model_id": "af4eeee9408d4e759cabbf52820e436c",
       "version_major": 2,
       "version_minor": 0
      },
      "text/plain": [
       "VBox(children=(HTML(value=\"<b style='font-size: large'>Dataset Operations</b>\"), QgridWidget(grid_options={'fu…"
      ]
     },
     "metadata": {},
     "output_type": "display_data"
    }
   ],
   "source": [
    "mv.operate_datasets()"
   ]
  },
  {
   "cell_type": "code",
   "execution_count": 7,
   "id": "952fad56",
   "metadata": {},
   "outputs": [],
   "source": [
    "import base64\n",
    "from io import BytesIO\n",
    "from PIL import Image\n",
    "\n",
    "image = Image.open(\"voronoi.png\")\n",
    "buffered = BytesIO()\n",
    "image.save(buffered, format=\"PNG\")\n",
    "img_str = base64.b64encode(buffered.getvalue())"
   ]
  }
 ],
 "metadata": {
  "kernelspec": {
   "display_name": "meteovis",
   "language": "python",
   "name": "meteovis"
  },
  "language_info": {
   "codemirror_mode": {
    "name": "ipython",
    "version": 3
   },
   "file_extension": ".py",
   "mimetype": "text/x-python",
   "name": "python",
   "nbconvert_exporter": "python",
   "pygments_lexer": "ipython3",
   "version": "3.8.12"
  }
 },
 "nbformat": 4,
 "nbformat_minor": 5
}
