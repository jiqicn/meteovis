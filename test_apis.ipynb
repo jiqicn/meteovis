{
 "cells": [
  {
   "cell_type": "code",
   "execution_count": 1,
   "id": "3873d431",
   "metadata": {},
   "outputs": [],
   "source": [
    "import meteovis as mv"
   ]
  },
  {
   "cell_type": "code",
   "execution_count": 2,
   "id": "2bbc03e5",
   "metadata": {},
   "outputs": [],
   "source": [
    "# test of the View class\n",
    "dataset_path = \"./dataset/b49398fc-3244-4b4f-8f83-dc781239f0af.h5\"\n",
    "\n",
    "ds = mv.Dataset(dataset_path)\n",
    "v = mv.View(ds)\n",
    "# v.create_cache()"
   ]
  },
  {
   "cell_type": "code",
   "execution_count": 3,
   "id": "b2e3a1aa",
   "metadata": {},
   "outputs": [],
   "source": [
    "# test of the ImageBuffer class\n",
    "import os\n",
    "CACHE_DIR = os.getcwd() + \"/cache\"\n",
    "\n",
    "imgs = os.listdir('./cache/')\n",
    "imgs = [img for img in imgs if not img.startswith('.')]\n",
    "imgs = [os.path.join(CACHE_DIR, img) for img in imgs]\n",
    "\n",
    "# create an image buffer hosting maximum 4 images\n",
    "ib = mv.ImageBuffer(4)  \n",
    "for img in imgs:\n",
    "    temp = ib[img]"
   ]
  },
  {
   "cell_type": "code",
   "execution_count": 5,
   "id": "1c165d5c",
   "metadata": {},
   "outputs": [
    {
     "data": {
      "text/plain": [
       "{}"
      ]
     },
     "execution_count": 5,
     "metadata": {},
     "output_type": "execute_result"
    }
   ],
   "source": [
    "# test of the AnimePlayer class\n",
    "ap = mv.AnimePlayer([v])\n",
    "ap.buffer"
   ]
  }
 ],
 "metadata": {
  "kernelspec": {
   "display_name": "meteovis",
   "language": "python",
   "name": "meteovis"
  },
  "language_info": {
   "codemirror_mode": {
    "name": "ipython",
    "version": 3
   },
   "file_extension": ".py",
   "mimetype": "text/x-python",
   "name": "python",
   "nbconvert_exporter": "python",
   "pygments_lexer": "ipython3",
   "version": "3.8.12"
  }
 },
 "nbformat": 4,
 "nbformat_minor": 5
}
