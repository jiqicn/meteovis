{
 "cells": [
  {
   "cell_type": "code",
   "execution_count": 1,
   "id": "4e424356",
   "metadata": {},
   "outputs": [],
   "source": [
    "import meteovis as mv"
   ]
  },
  {
   "cell_type": "code",
   "execution_count": 4,
   "id": "e50d22e7-69df-4088-b456-ce7e619029d9",
   "metadata": {},
   "outputs": [],
   "source": [
    "# test of the Dataset class\n",
    "ds1_path = \"./dataset/ad9c7afd-4cb9-45f7-b947-328b561d8fe1.h5\"\n",
    "ds2_path = \"./dataset/afaff75f-a978-4c8e-a9ee-3d84eca20453.h5\"\n",
    "\n",
    "ds1 = mv.Dataset(ds1_path)\n",
    "ds2 = mv.Dataset(ds2_path)"
   ]
  },
  {
   "cell_type": "code",
   "execution_count": 3,
   "id": "01e29745",
   "metadata": {},
   "outputs": [],
   "source": [
    "# test of the View class\n",
    "dataset_path = \"./dataset/ad9c7afd-4cb9-45f7-b947-328b561d8fe1.h5\"\n",
    "\n",
    "ds = mv.Dataset(dataset_path)\n",
    "v = mv.View(ds)\n",
    "# v.create_cache()"
   ]
  },
  {
   "cell_type": "code",
   "execution_count": 9,
   "id": "6cd10971",
   "metadata": {},
   "outputs": [],
   "source": [
    "# test of the ImageBuffer class\n",
    "import os\n",
    "CACHE_DIR = os.getcwd() + \"/cache\"\n",
    "\n",
    "imgs = os.listdir('./cache/')\n",
    "imgs = [img for img in imgs if not img.startswith('.')]\n",
    "# imgs = [os.path.join(CACHE_DIR, img) for img in imgs]\n",
    "\n",
    "# create an image buffer hosting maximum 4 images\n",
    "ib = mv.ImageBuffer(4)  \n",
    "for img in imgs:\n",
    "    temp = ib[img]"
   ]
  }
 ],
 "metadata": {
  "kernelspec": {
   "display_name": "meteovis",
   "language": "python",
   "name": "meteovis"
  },
  "language_info": {
   "codemirror_mode": {
    "name": "ipython",
    "version": 3
   },
   "file_extension": ".py",
   "mimetype": "text/x-python",
   "name": "python",
   "nbconvert_exporter": "python",
   "pygments_lexer": "ipython3",
   "version": "3.8.11"
  }
 },
 "nbformat": 4,
 "nbformat_minor": 5
}
