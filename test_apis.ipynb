{
 "cells": [
  {
   "cell_type": "code",
   "execution_count": 1,
   "id": "9b0a661a",
   "metadata": {},
   "outputs": [],
   "source": [
    "import meteovis as mv"
   ]
  },
  {
   "cell_type": "code",
   "execution_count": 2,
   "id": "58969dda",
   "metadata": {},
   "outputs": [
    {
     "name": "stdout",
     "output_type": "stream",
     "text": [
      "Start interpolating......[Done]\n",
      "Start merging......[Done]\n",
      "Cleaning temp files......[Done]\n",
      "Merging completed!\n"
     ]
    }
   ],
   "source": [
    "# test of the Dataset class\n",
    "ds1_path = \"./dataset/4fb4df06-f217-4099-8480-6be8e4c3861d.h5\"\n",
    "ds2_path = \"./dataset/23949391-ca80-47ee-90a7-4da0d9550e8e.h5\"\n",
    "\n",
    "ds1 = mv.Dataset(ds1_path)\n",
    "ds2 = mv.Dataset(ds2_path)\n",
    "ds_m = mv.Dataset()\n",
    "ds_m.merge(\"max\", [ds1, ds2])"
   ]
  },
  {
   "cell_type": "code",
   "execution_count": 8,
   "id": "476c98a6",
   "metadata": {},
   "outputs": [
    {
     "data": {
      "text/plain": [
       "array([3, 2, 1])"
      ]
     },
     "execution_count": 8,
     "metadata": {},
     "output_type": "execute_result"
    }
   ],
   "source": [
    "import numpy as np\n",
    "\n",
    "a = np.array([1, 2, 3])\n",
    "np.flip(a)"
   ]
  },
  {
   "cell_type": "code",
   "execution_count": 3,
   "id": "5d77850b",
   "metadata": {},
   "outputs": [],
   "source": [
    "# test of the View class\n",
    "dataset_path = \"./dataset/ad9c7afd-4cb9-45f7-b947-328b561d8fe1.h5\"\n",
    "\n",
    "ds = mv.Dataset(dataset_path)\n",
    "v = mv.View(ds)\n",
    "# v.create_cache()"
   ]
  },
  {
   "cell_type": "code",
   "execution_count": 9,
   "id": "65585fe5",
   "metadata": {},
   "outputs": [],
   "source": [
    "# test of the ImageBuffer class\n",
    "import os\n",
    "CACHE_DIR = os.getcwd() + \"/cache\"\n",
    "\n",
    "imgs = os.listdir('./cache/')\n",
    "imgs = [img for img in imgs if not img.startswith('.')]\n",
    "# imgs = [os.path.join(CACHE_DIR, img) for img in imgs]\n",
    "\n",
    "# create an image buffer hosting maximum 4 images\n",
    "ib = mv.ImageBuffer(4)  \n",
    "for img in imgs:\n",
    "    temp = ib[img]"
   ]
  }
 ],
 "metadata": {
  "interpreter": {
   "hash": "d71851cc999155a9723f8e9a32bcf23a06d055296e88a81130dd020e66212f41"
  },
  "kernelspec": {
   "display_name": "meteovis",
   "language": "python",
   "name": "meteovis"
  },
  "language_info": {
   "codemirror_mode": {
    "name": "ipython",
    "version": 3
   },
   "file_extension": ".py",
   "mimetype": "text/x-python",
   "name": "python",
   "nbconvert_exporter": "python",
   "pygments_lexer": "ipython3",
   "version": "3.8.12"
  }
 },
 "nbformat": 4,
 "nbformat_minor": 5
}
