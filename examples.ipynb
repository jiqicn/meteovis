{
 "cells": [
  {
   "cell_type": "markdown",
   "id": "1da0c89d",
   "metadata": {},
   "source": [
    "# Examples of using MeteoVis\n",
    "To import meteovis for using, firstly run the following cell. This will automatically generate the necessary folders under your working directory (./dataset, ./cache, and ./temp)."
   ]
  },
  {
   "cell_type": "code",
   "execution_count": 1,
   "id": "5c5b11b1",
   "metadata": {},
   "outputs": [],
   "source": [
    "import meteovis as mv"
   ]
  },
  {
   "cell_type": "markdown",
   "id": "1a414f76",
   "metadata": {},
   "source": [
    "#### Process files to dataset"
   ]
  },
  {
   "cell_type": "code",
   "execution_count": 2,
   "id": "d27d81ec",
   "metadata": {},
   "outputs": [
    {
     "data": {
      "application/vnd.jupyter.widget-view+json": {
       "model_id": "077a86ffbcff4152ab0b310168385278",
       "version_major": 2,
       "version_minor": 0
      },
      "text/plain": [
       "VBox(children=(HTML(value=\"<p><b style='font-size: large'>Process files to dataset</b><p><p>Please make sure t…"
      ]
     },
     "metadata": {},
     "output_type": "display_data"
    }
   ],
   "source": [
    "mv.process_data()"
   ]
  },
  {
   "cell_type": "markdown",
   "id": "218481a0",
   "metadata": {},
   "source": [
    "#### Working with datasets"
   ]
  },
  {
   "cell_type": "code",
   "execution_count": 3,
   "id": "1ab34604",
   "metadata": {},
   "outputs": [
    {
     "data": {
      "application/vnd.jupyter.widget-view+json": {
       "model_id": "76083498edbf40e499361a2f82c43aa4",
       "version_major": 2,
       "version_minor": 0
      },
      "text/plain": [
       "VBox(children=(HTML(value=\"<b style='font-size: large'>Dataset Operations</b>\"), QgridWidget(grid_options={'fu…"
      ]
     },
     "metadata": {},
     "output_type": "display_data"
    }
   ],
   "source": [
    "mv.operate_datasets()"
   ]
  }
 ],
 "metadata": {
  "interpreter": {
   "hash": "d71851cc999155a9723f8e9a32bcf23a06d055296e88a81130dd020e66212f41"
  },
  "kernelspec": {
   "display_name": "meteovis",
   "language": "python",
   "name": "meteovis"
  },
  "language_info": {
   "codemirror_mode": {
    "name": "ipython",
    "version": 3
   },
   "file_extension": ".py",
   "mimetype": "text/x-python",
   "name": "python",
   "nbconvert_exporter": "python",
   "pygments_lexer": "ipython3",
   "version": "3.8.12"
  }
 },
 "nbformat": 4,
 "nbformat_minor": 5
}
