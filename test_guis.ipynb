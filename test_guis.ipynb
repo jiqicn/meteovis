{
 "cells": [
  {
   "cell_type": "code",
   "execution_count": 1,
   "id": "141b4337",
   "metadata": {},
   "outputs": [],
   "source": [
    "import meteovis as mv"
   ]
  },
  {
   "cell_type": "code",
   "execution_count": 2,
   "id": "364b449f",
   "metadata": {},
   "outputs": [
    {
     "data": {
      "application/vnd.jupyter.widget-view+json": {
       "model_id": "8a4b997f04674a529af38b98e31c9d58",
       "version_major": 2,
       "version_minor": 0
      },
      "text/plain": [
       "VBox(children=(HTML(value=\"<b style='font-size: large'>Process files to dataset</b>\"), FileChooser(path='/home…"
      ]
     },
     "metadata": {},
     "output_type": "display_data"
    }
   ],
   "source": [
    "mv.process_data()"
   ]
  },
  {
   "cell_type": "code",
   "execution_count": 3,
   "id": "c1fc1a57",
   "metadata": {},
   "outputs": [
    {
     "data": {
      "application/vnd.jupyter.widget-view+json": {
       "model_id": "5fb8e3d0a6a6404b9c6223a129e00610",
       "version_major": 2,
       "version_minor": 0
      },
      "text/plain": [
       "VBox(children=(HTML(value=\"<b style='font-size: large'>Dataset Operations</b>\"), QgridWidget(grid_options={'fu…"
      ]
     },
     "metadata": {},
     "output_type": "display_data"
    }
   ],
   "source": [
    "mv.operate_datasets()"
   ]
  }
 ],
 "metadata": {
  "interpreter": {
   "hash": "d71851cc999155a9723f8e9a32bcf23a06d055296e88a81130dd020e66212f41"
  },
  "kernelspec": {
   "display_name": "meteovis",
   "language": "python",
   "name": "meteovis"
  },
  "language_info": {
   "codemirror_mode": {
    "name": "ipython",
    "version": 3
   },
   "file_extension": ".py",
   "mimetype": "text/x-python",
   "name": "python",
   "nbconvert_exporter": "python",
   "pygments_lexer": "ipython3",
   "version": "3.8.12"
  }
 },
 "nbformat": 4,
 "nbformat_minor": 5
}
