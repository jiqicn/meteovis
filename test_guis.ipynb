{
 "cells": [
  {
   "cell_type": "code",
   "execution_count": 1,
   "id": "b324b320",
   "metadata": {},
   "outputs": [],
   "source": [
    "import meteovis as mv"
   ]
  },
  {
   "cell_type": "code",
   "execution_count": 2,
   "id": "79379c0b",
   "metadata": {},
   "outputs": [
    {
     "data": {
      "application/vnd.jupyter.widget-view+json": {
       "model_id": "f10de1e19d114655832c522a1ed14ee3",
       "version_major": 2,
       "version_minor": 0
      },
      "text/plain": [
       "VBox(children=(HTML(value=\"<b style='font-size: large'>Process files to dataset</b>\"), FileChooser(path='/home…"
      ]
     },
     "metadata": {},
     "output_type": "display_data"
    }
   ],
   "source": [
    "mv.process_data()"
   ]
  },
  {
   "cell_type": "code",
   "execution_count": 2,
   "id": "82e77866",
   "metadata": {},
   "outputs": [
    {
     "data": {
      "application/vnd.jupyter.widget-view+json": {
       "model_id": "64577db1e18d4bceb95b05b18b7f8472",
       "version_major": 2,
       "version_minor": 0
      },
      "text/plain": [
       "VBox(children=(HTML(value=\"<b style='font-size: large'>Dataset Operations</b>\"), QgridWidget(grid_options={'fu…"
      ]
     },
     "metadata": {},
     "output_type": "display_data"
    }
   ],
   "source": [
    "mv.operate_datasets()"
   ]
  }
 ],
 "metadata": {
  "interpreter": {
   "hash": "d71851cc999155a9723f8e9a32bcf23a06d055296e88a81130dd020e66212f41"
  },
  "kernelspec": {
   "display_name": "meteovis",
   "language": "python",
   "name": "meteovis"
  },
  "language_info": {
   "codemirror_mode": {
    "name": "ipython",
    "version": 3
   },
   "file_extension": ".py",
   "mimetype": "text/x-python",
   "name": "python",
   "nbconvert_exporter": "python",
   "pygments_lexer": "ipython3",
   "version": "3.8.12"
  }
 },
 "nbformat": 4,
 "nbformat_minor": 5
}
