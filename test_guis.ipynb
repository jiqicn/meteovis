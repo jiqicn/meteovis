{
 "cells": [
  {
   "cell_type": "code",
   "execution_count": 18,
   "id": "9b6e0151",
   "metadata": {},
   "outputs": [],
   "source": [
    "import meteovis as mv"
   ]
  },
  {
   "cell_type": "code",
   "execution_count": 19,
   "id": "50fb44ef",
   "metadata": {},
   "outputs": [
    {
     "data": {
      "application/vnd.jupyter.widget-view+json": {
       "model_id": "b43bc33bac6343daa00cbc8073556685",
       "version_major": 2,
       "version_minor": 0
      },
      "text/plain": [
       "VBox(children=(HTML(value=\"<b style='font-size: large'>Process files to dataset</b>\"), FileChooser(path='/home…"
      ]
     },
     "metadata": {},
     "output_type": "display_data"
    }
   ],
   "source": [
    "mv.process_data()"
   ]
  },
  {
   "cell_type": "code",
   "execution_count": 20,
   "id": "3129f04c",
   "metadata": {},
   "outputs": [
    {
     "data": {
      "application/vnd.jupyter.widget-view+json": {
       "model_id": "3fad9371a874442f8a6aea8f8a758828",
       "version_major": 2,
       "version_minor": 0
      },
      "text/plain": [
       "VBox(children=(HTML(value=\"<b style='font-size: large'>Dataset Operations</b>\"), QgridWidget(grid_options={'fu…"
      ]
     },
     "metadata": {},
     "output_type": "display_data"
    }
   ],
   "source": [
    "mv.operate_datasets()"
   ]
  }
 ],
 "metadata": {
  "interpreter": {
   "hash": "d71851cc999155a9723f8e9a32bcf23a06d055296e88a81130dd020e66212f41"
  },
  "kernelspec": {
   "display_name": "meteovis",
   "language": "python",
   "name": "meteovis"
  },
  "language_info": {
   "codemirror_mode": {
    "name": "ipython",
    "version": 3
   },
   "file_extension": ".py",
   "mimetype": "text/x-python",
   "name": "python",
   "nbconvert_exporter": "python",
   "pygments_lexer": "ipython3",
   "version": "3.8.12"
  }
 },
 "nbformat": 4,
 "nbformat_minor": 5
}
