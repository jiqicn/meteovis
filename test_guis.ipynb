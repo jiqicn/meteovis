{
 "cells": [
  {
   "cell_type": "code",
   "execution_count": 2,
   "id": "8eb0fe2f",
   "metadata": {},
   "outputs": [],
   "source": [
    "import meteovis as mv"
   ]
  },
  {
   "cell_type": "code",
   "execution_count": 3,
   "id": "85623061",
   "metadata": {},
   "outputs": [
    {
     "data": {
      "application/vnd.jupyter.widget-view+json": {
       "model_id": "dac7d050bbd148919f13d3b02d43e636",
       "version_major": 2,
       "version_minor": 0
      },
      "text/plain": [
       "VBox(children=(HTML(value=\"<b style='font-size: large'>Process files to dataset</b>\"), FileChooser(path='/home…"
      ]
     },
     "metadata": {},
     "output_type": "display_data"
    }
   ],
   "source": [
    "mv.process_data()"
   ]
  },
  {
   "cell_type": "code",
   "execution_count": 4,
   "id": "239cbe1e",
   "metadata": {},
   "outputs": [
    {
     "data": {
      "application/vnd.jupyter.widget-view+json": {
       "model_id": "764f3229796c4be0b7116b63b0c6fa62",
       "version_major": 2,
       "version_minor": 0
      },
      "text/plain": [
       "VBox(children=(HTML(value=\"<b style='font-size: large'>Dataset Operations</b>\"), QgridWidget(grid_options={'fu…"
      ]
     },
     "metadata": {},
     "output_type": "display_data"
    }
   ],
   "source": [
    "mv.operate_datasets()"
   ]
  }
 ],
 "metadata": {
  "kernelspec": {
   "display_name": "meteovis",
   "language": "python",
   "name": "meteovis"
  },
  "language_info": {
   "codemirror_mode": {
    "name": "ipython",
    "version": 3
   },
   "file_extension": ".py",
   "mimetype": "text/x-python",
   "name": "python",
   "nbconvert_exporter": "python",
   "pygments_lexer": "ipython3",
   "version": "3.8.12"
  }
 },
 "nbformat": 4,
 "nbformat_minor": 5
}
